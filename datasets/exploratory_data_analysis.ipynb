{
 "cells": [
  {
   "cell_type": "code",
   "execution_count": 1,
   "metadata": {},
   "outputs": [],
   "source": [
    "import pandas as pd\n",
    "import numpy as np\n",
    "from numba import jit\n",
    "import zipfile"
   ]
  },
  {
   "cell_type": "code",
   "execution_count": 2,
   "metadata": {},
   "outputs": [],
   "source": [
    "zfile = zipfile.ZipFile('1_min_SPY_2008-2021.zip')\n",
    "zfile.extractall()"
   ]
  },
  {
   "cell_type": "code",
   "execution_count": 3,
   "metadata": {},
   "outputs": [],
   "source": [
    "data = pd.read_csv(\"1_min_SPY_2008-2021.csv\", parse_dates=True)"
   ]
  },
  {
   "cell_type": "code",
   "execution_count": 4,
   "metadata": {},
   "outputs": [],
   "source": [
    "data['date_'] = pd.to_datetime(data['date'].str.split(\" \").apply(lambda x: x[0]))\n",
    "data['year'] = data['date_'].dt.year"
   ]
  },
  {
   "cell_type": "code",
   "execution_count": 5,
   "metadata": {},
   "outputs": [],
   "source": [
    "cols = ['date','date_','year','open','high','low','close','volume','barCount','average']\n",
    "\n",
    "data = data.sort_values(by='date', ascending=True).reset_index(drop=True)[cols]"
   ]
  },
  {
   "cell_type": "code",
   "execution_count": 6,
   "metadata": {},
   "outputs": [
    {
     "data": {
      "text/html": [
       "<div>\n",
       "<style scoped>\n",
       "    .dataframe tbody tr th:only-of-type {\n",
       "        vertical-align: middle;\n",
       "    }\n",
       "\n",
       "    .dataframe tbody tr th {\n",
       "        vertical-align: top;\n",
       "    }\n",
       "\n",
       "    .dataframe thead th {\n",
       "        text-align: right;\n",
       "    }\n",
       "</style>\n",
       "<table border=\"1\" class=\"dataframe\">\n",
       "  <thead>\n",
       "    <tr style=\"text-align: right;\">\n",
       "      <th></th>\n",
       "      <th>date</th>\n",
       "      <th>date_</th>\n",
       "      <th>year</th>\n",
       "      <th>open</th>\n",
       "      <th>high</th>\n",
       "      <th>low</th>\n",
       "      <th>close</th>\n",
       "      <th>volume</th>\n",
       "      <th>barCount</th>\n",
       "      <th>average</th>\n",
       "    </tr>\n",
       "  </thead>\n",
       "  <tbody>\n",
       "    <tr>\n",
       "      <th>0</th>\n",
       "      <td>20080122  07:30:00</td>\n",
       "      <td>2008-01-22</td>\n",
       "      <td>2008</td>\n",
       "      <td>126.45</td>\n",
       "      <td>126.82</td>\n",
       "      <td>126.00</td>\n",
       "      <td>126.67</td>\n",
       "      <td>30987</td>\n",
       "      <td>4541</td>\n",
       "      <td>126.283</td>\n",
       "    </tr>\n",
       "    <tr>\n",
       "      <th>1</th>\n",
       "      <td>20080122  07:31:00</td>\n",
       "      <td>2008-01-22</td>\n",
       "      <td>2008</td>\n",
       "      <td>126.67</td>\n",
       "      <td>127.17</td>\n",
       "      <td>126.39</td>\n",
       "      <td>127.12</td>\n",
       "      <td>20111</td>\n",
       "      <td>3125</td>\n",
       "      <td>126.958</td>\n",
       "    </tr>\n",
       "    <tr>\n",
       "      <th>2</th>\n",
       "      <td>20080122  07:32:00</td>\n",
       "      <td>2008-01-22</td>\n",
       "      <td>2008</td>\n",
       "      <td>127.10</td>\n",
       "      <td>127.13</td>\n",
       "      <td>126.71</td>\n",
       "      <td>126.78</td>\n",
       "      <td>11979</td>\n",
       "      <td>2074</td>\n",
       "      <td>126.922</td>\n",
       "    </tr>\n",
       "    <tr>\n",
       "      <th>3</th>\n",
       "      <td>20080122  07:33:00</td>\n",
       "      <td>2008-01-22</td>\n",
       "      <td>2008</td>\n",
       "      <td>126.76</td>\n",
       "      <td>126.90</td>\n",
       "      <td>126.53</td>\n",
       "      <td>126.54</td>\n",
       "      <td>8017</td>\n",
       "      <td>1350</td>\n",
       "      <td>126.675</td>\n",
       "    </tr>\n",
       "    <tr>\n",
       "      <th>4</th>\n",
       "      <td>20080122  07:34:00</td>\n",
       "      <td>2008-01-22</td>\n",
       "      <td>2008</td>\n",
       "      <td>126.54</td>\n",
       "      <td>127.18</td>\n",
       "      <td>126.54</td>\n",
       "      <td>126.78</td>\n",
       "      <td>11967</td>\n",
       "      <td>1253</td>\n",
       "      <td>126.730</td>\n",
       "    </tr>\n",
       "    <tr>\n",
       "      <th>...</th>\n",
       "      <td>...</td>\n",
       "      <td>...</td>\n",
       "      <td>...</td>\n",
       "      <td>...</td>\n",
       "      <td>...</td>\n",
       "      <td>...</td>\n",
       "      <td>...</td>\n",
       "      <td>...</td>\n",
       "      <td>...</td>\n",
       "      <td>...</td>\n",
       "    </tr>\n",
       "    <tr>\n",
       "      <th>2070829</th>\n",
       "      <td>20210506  13:55:00</td>\n",
       "      <td>2021-05-06</td>\n",
       "      <td>2021</td>\n",
       "      <td>418.56</td>\n",
       "      <td>418.77</td>\n",
       "      <td>418.48</td>\n",
       "      <td>418.49</td>\n",
       "      <td>9073</td>\n",
       "      <td>4584</td>\n",
       "      <td>418.660</td>\n",
       "    </tr>\n",
       "    <tr>\n",
       "      <th>2070830</th>\n",
       "      <td>20210506  13:56:00</td>\n",
       "      <td>2021-05-06</td>\n",
       "      <td>2021</td>\n",
       "      <td>418.50</td>\n",
       "      <td>418.73</td>\n",
       "      <td>418.47</td>\n",
       "      <td>418.64</td>\n",
       "      <td>6680</td>\n",
       "      <td>3095</td>\n",
       "      <td>418.622</td>\n",
       "    </tr>\n",
       "    <tr>\n",
       "      <th>2070831</th>\n",
       "      <td>20210506  13:57:00</td>\n",
       "      <td>2021-05-06</td>\n",
       "      <td>2021</td>\n",
       "      <td>418.64</td>\n",
       "      <td>418.79</td>\n",
       "      <td>418.63</td>\n",
       "      <td>418.79</td>\n",
       "      <td>6912</td>\n",
       "      <td>2868</td>\n",
       "      <td>418.744</td>\n",
       "    </tr>\n",
       "    <tr>\n",
       "      <th>2070832</th>\n",
       "      <td>20210506  13:58:00</td>\n",
       "      <td>2021-05-06</td>\n",
       "      <td>2021</td>\n",
       "      <td>418.79</td>\n",
       "      <td>418.83</td>\n",
       "      <td>418.71</td>\n",
       "      <td>418.76</td>\n",
       "      <td>7891</td>\n",
       "      <td>3862</td>\n",
       "      <td>418.784</td>\n",
       "    </tr>\n",
       "    <tr>\n",
       "      <th>2070833</th>\n",
       "      <td>20210506  13:59:00</td>\n",
       "      <td>2021-05-06</td>\n",
       "      <td>2021</td>\n",
       "      <td>418.76</td>\n",
       "      <td>419.21</td>\n",
       "      <td>418.76</td>\n",
       "      <td>419.08</td>\n",
       "      <td>18343</td>\n",
       "      <td>8005</td>\n",
       "      <td>419.014</td>\n",
       "    </tr>\n",
       "  </tbody>\n",
       "</table>\n",
       "<p>2070834 rows × 10 columns</p>\n",
       "</div>"
      ],
      "text/plain": [
       "                       date      date_  year    open    high     low   close  \\\n",
       "0        20080122  07:30:00 2008-01-22  2008  126.45  126.82  126.00  126.67   \n",
       "1        20080122  07:31:00 2008-01-22  2008  126.67  127.17  126.39  127.12   \n",
       "2        20080122  07:32:00 2008-01-22  2008  127.10  127.13  126.71  126.78   \n",
       "3        20080122  07:33:00 2008-01-22  2008  126.76  126.90  126.53  126.54   \n",
       "4        20080122  07:34:00 2008-01-22  2008  126.54  127.18  126.54  126.78   \n",
       "...                     ...        ...   ...     ...     ...     ...     ...   \n",
       "2070829  20210506  13:55:00 2021-05-06  2021  418.56  418.77  418.48  418.49   \n",
       "2070830  20210506  13:56:00 2021-05-06  2021  418.50  418.73  418.47  418.64   \n",
       "2070831  20210506  13:57:00 2021-05-06  2021  418.64  418.79  418.63  418.79   \n",
       "2070832  20210506  13:58:00 2021-05-06  2021  418.79  418.83  418.71  418.76   \n",
       "2070833  20210506  13:59:00 2021-05-06  2021  418.76  419.21  418.76  419.08   \n",
       "\n",
       "         volume  barCount  average  \n",
       "0         30987      4541  126.283  \n",
       "1         20111      3125  126.958  \n",
       "2         11979      2074  126.922  \n",
       "3          8017      1350  126.675  \n",
       "4         11967      1253  126.730  \n",
       "...         ...       ...      ...  \n",
       "2070829    9073      4584  418.660  \n",
       "2070830    6680      3095  418.622  \n",
       "2070831    6912      2868  418.744  \n",
       "2070832    7891      3862  418.784  \n",
       "2070833   18343      8005  419.014  \n",
       "\n",
       "[2070834 rows x 10 columns]"
      ]
     },
     "execution_count": 6,
     "metadata": {},
     "output_type": "execute_result"
    }
   ],
   "source": [
    "data"
   ]
  },
  {
   "cell_type": "markdown",
   "metadata": {},
   "source": [
    "## 1. First, compute daily and weekly vol from the S&P 500 tick data"
   ]
  },
  {
   "cell_type": "code",
   "execution_count": 19,
   "metadata": {},
   "outputs": [],
   "source": [
    "ret_cols = ['date','date_','close']\n",
    "\n",
    "data_returns = data[ret_cols]#.set_index('date')\n",
    "data_returns['ret'] = data_returns['close'].pct_change()\n",
    "# data_returns.groupby('date_')['ret']"
   ]
  },
  {
   "cell_type": "markdown",
   "metadata": {},
   "source": [
    "## 2. Analyze features - histograms, describe(), fill/remove missing data, violin/box plot"
   ]
  },
  {
   "cell_type": "markdown",
   "metadata": {},
   "source": [
    "### 2.1"
   ]
  },
  {
   "cell_type": "markdown",
   "metadata": {},
   "source": [
    "## 3. Linear models - Run linear regression with regularization terms - L1,L2 and maybe elastic net (not covered in class)."
   ]
  },
  {
   "cell_type": "markdown",
   "metadata": {},
   "source": [
    "## 4. Non linear - Tree models - test out Tree Regression simple model"
   ]
  },
  {
   "cell_type": "code",
   "execution_count": null,
   "metadata": {},
   "outputs": [],
   "source": []
  }
 ],
 "metadata": {
  "kernelspec": {
   "display_name": "Python 3 (mfe_env)",
   "language": "python",
   "name": "python3"
  },
  "language_info": {
   "codemirror_mode": {
    "name": "ipython",
    "version": 3
   },
   "file_extension": ".py",
   "mimetype": "text/x-python",
   "name": "python",
   "nbconvert_exporter": "python",
   "pygments_lexer": "ipython3",
   "version": "3.8.10"
  }
 },
 "nbformat": 4,
 "nbformat_minor": 4
}
